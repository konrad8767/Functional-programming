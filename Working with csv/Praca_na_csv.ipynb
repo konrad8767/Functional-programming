{
 "cells": [
  {
   "cell_type": "markdown",
   "metadata": {},
   "source": [
    "### Polecenie\n",
    "Znaleźć top 10 krajów z najmniejszą dzienną śmiertelnością w Ameryce Południowej we w całym Wrześniu 2020."
   ]
  },
  {
   "cell_type": "code",
   "execution_count": 12,
   "metadata": {},
   "outputs": [
    {
     "name": "stdout",
     "output_type": "stream",
     "text": [
      "    location  total_deaths\n",
      "0     Guyana          39.0\n",
      "1    Uruguay          44.0\n",
      "2   Suriname          71.0\n",
      "3   Paraguay         326.0\n",
      "4  Venezuela         381.0\n",
      "5    Bolivia        5027.0\n",
      "6    Ecuador        6556.0\n",
      "7  Argentina        8498.0\n",
      "8      Chile       11289.0\n",
      "9   Colombia       19663.0\n"
     ]
    }
   ],
   "source": [
    "import pandas as pd\n",
    "\n",
    "\n",
    "data = pd.read_csv(\"C:\\\\Users\\\\PC COMPUTER\\Desktop\\\\Programowanie funkcyjne\\\\Laboratoria\\\\Lab2\\\\lab2\\\\zadanie 1 grupa 3\\\\covid_data.csv\", delimiter=',', usecols=[\"continent\", \"location\", \"date\", \"total_deaths\"], header=0)\n",
    "data = data.dropna()\n",
    "data = data[data.continent.str.contains('South America',case=False)]\n",
    "data['date'] = pd.to_datetime(data['date'])\n",
    "data['period'] = data['date'].dt.month\n",
    "data = data.loc[(data['period']==9)]\n",
    "data = data.sort_values(['total_deaths'], ascending=True).reset_index(drop=True)\n",
    "data = data.groupby(by=['location'])['total_deaths'].min().sort_values().reset_index()\n",
    "data = data.head(10)\n",
    "print(data)"
   ]
  },
  {
   "cell_type": "markdown",
   "metadata": {},
   "source": [
    "---"
   ]
  },
  {
   "cell_type": "markdown",
   "metadata": {},
   "source": [
    "### Polecenie\n",
    "Znaleźć top 10 krajów z najmniejszą dzienną śmiertelnością w Ameryce Południowej we w całym Wrześniu 2020.\n"
   ]
  },
  {
   "cell_type": "code",
   "execution_count": 11,
   "metadata": {},
   "outputs": [
    {
     "name": "stdout",
     "output_type": "stream",
     "text": [
      "    location  total_deaths\n",
      "0     Guyana          39.0\n",
      "1    Uruguay          44.0\n",
      "2   Suriname          71.0\n",
      "3   Paraguay         326.0\n",
      "4  Venezuela         381.0\n",
      "5    Bolivia        5027.0\n",
      "6    Ecuador        6556.0\n",
      "7  Argentina        8498.0\n",
      "8      Chile       11289.0\n",
      "9   Colombia       19663.0\n"
     ]
    }
   ],
   "source": [
    "import pandas as pd\n",
    "\n",
    "\n",
    "data = pd.read_csv(\"C:\\\\Users\\\\PC COMPUTER\\Desktop\\\\Programowanie funkcyjne\\\\Laboratoria\\\\Lab2\\\\lab2\\\\zadanie 2 grupa 3\\\\covid_data.csv\", delimiter=',', usecols=[\"continent\", \"location\", \"date\", \"total_deaths\"], header=0)\n",
    "data = data.dropna()\n",
    "data = data[data.continent.str.contains('South America',case=False)]\n",
    "data['date'] = pd.to_datetime(data['date'])\n",
    "data['period'] = data['date'].dt.month\n",
    "data = data.loc[(data['period']==9)]\n",
    "data = data.sort_values(['total_deaths'], ascending=True).reset_index(drop=True)\n",
    "data = data.groupby(by=['location'])['total_deaths'].min().sort_values().reset_index()\n",
    "data = data.head(10)\n",
    "print(data)\n"
   ]
  },
  {
   "cell_type": "markdown",
   "metadata": {},
   "source": [
    "---"
   ]
  },
  {
   "cell_type": "markdown",
   "metadata": {},
   "source": [
    "### Polecenie\n",
    "Znaleźć top 5 państw w Ameryce Południowej, które miały największy dzienny wzrost zachorowań na milion mieszkańców od Kwietnia do Września, liczony jako różnica średnich miesięcznych."
   ]
  },
  {
   "cell_type": "code",
   "execution_count": 5,
   "metadata": {},
   "outputs": [
    {
     "name": "stdout",
     "output_type": "stream",
     "text": [
      "location\n",
      "Argentina    244.907967\n",
      "Colombia     138.023433\n",
      "Peru         133.064000\n",
      "Brazil       131.983200\n",
      "Paraguay     106.189633\n",
      "Name: new_cases_per_million, dtype: float64\n"
     ]
    }
   ],
   "source": [
    "import pandas as pd\n",
    "\n",
    "data = pd.read_csv(\"C:\\\\Users\\\\PC COMPUTER\\Desktop\\\\Programowanie funkcyjne\\\\Laboratoria\\\\Lab2\\\\lab2\\\\zadanie 3 grupa 3\\\\covid_data.csv\", delimiter=',', usecols=[\"continent\", \"location\", \"date\", \"new_cases_per_million\"], header=0)\n",
    "data = data.dropna()\n",
    "data = data[data.continent.str.contains('South America',case=False)]\n",
    "data['date'] = pd.to_datetime(data['date'])\n",
    "data['period'] = data['date'].dt.month\n",
    "data = data.loc[(data['period']==4) | (data['period']==9)]\n",
    "data = data.groupby(['location', 'period']).mean()\n",
    "\n",
    "data = data.reset_index()[['location', 'period', 'new_cases_per_million']]\n",
    "result = data.groupby('location').last()['new_cases_per_million'] - data.groupby('location').first()['new_cases_per_million']\n",
    "\n",
    "result = result.nlargest(5)\n",
    "\n",
    "print(result)"
   ]
  },
  {
   "cell_type": "markdown",
   "metadata": {},
   "source": [
    "---"
   ]
  },
  {
   "cell_type": "markdown",
   "metadata": {},
   "source": [
    "### Polecenie\n",
    "Wyznaczyć średni miesięczny przedział dziennych zachorowań na milion mieszkańców oraz pogrupować państwa na trzy kategorie (low, medium, high)  wg w.w. wymienionego przedziału, następnie wyświetlić wszystkie państwa, które polepszyły swoją sytuację od początku kwietnia do końca października.\n",
    "> Azja"
   ]
  },
  {
   "cell_type": "code",
   "execution_count": 7,
   "metadata": {},
   "outputs": [
    {
     "name": "stdout",
     "output_type": "stream",
     "text": [
      "    location\n",
      "0      Qatar\n",
      "1  Singapore\n"
     ]
    }
   ],
   "source": [
    "data = pd.read_csv(\"C:\\\\Users\\\\PC COMPUTER\\\\Desktop\\\\Programowanie funkcyjne\\\\Laboratoria\\\\Lab2\\\\lab2\\\\zadanie 4 grupa 3\\\\covid_data.csv\", delimiter=',', usecols=[\"continent\", \"location\", \"date\", \"new_cases_per_million\"], header=0)\n",
    "data = data.dropna().reset_index(drop=True)\n",
    "\n",
    "# print(data)\n",
    "\n",
    "data = data[data.continent.str.contains('Asia',case=False)]\n",
    "data['date'] = pd.to_datetime(data['date'])\n",
    "data['period'] = data['date'].dt.month\n",
    "data = data.loc[(data['period']>=4) & (data['period']<=10)]\n",
    "data = data.groupby(['location', 'period']).mean()\n",
    "data = data.reset_index()[['location', 'period', 'new_cases_per_million']]\n",
    "\n",
    "low = data.groupby('period', as_index=0)['new_cases_per_million'].min()\n",
    "high = data.groupby('period', as_index=0)['new_cases_per_million'].max()\n",
    "med = data.groupby('period', as_index=0)['new_cases_per_million'].max()\n",
    "\n",
    "groups = pd.DataFrame(data, columns = ['period', 'low', 'mediumLow','mediumHigh', 'high'])\n",
    "groups['period'] = data['period']\n",
    "groups['low'] = low['new_cases_per_million']\n",
    "groups['high'] = high['new_cases_per_million']\n",
    "groups['mediumLow'] = (high['new_cases_per_million'] - low['new_cases_per_million'])*(1/3)\n",
    "groups['mediumHigh'] = (high['new_cases_per_million'] - low['new_cases_per_million'])*(2/3)\n",
    "groups = groups.dropna()\n",
    "\n",
    "result = pd.merge(data, groups)\n",
    "\n",
    "result.loc[(result.new_cases_per_million < result.mediumLow), 'group'] = 1\n",
    "result.loc[(result.new_cases_per_million > result.mediumLow) & (result.new_cases_per_million < result.mediumHigh), 'group'] = 2\n",
    "result.loc[(result.new_cases_per_million > result.mediumHigh), 'group'] = 3\n",
    "\n",
    "result = result.drop(['new_cases_per_million', 'low', 'mediumLow', 'mediumHigh', 'high'], axis=1)\n",
    "result = result.loc[(result['period']==4) | (result['period']==10)]\n",
    "result = result.reset_index()[['location', 'period', 'group']]\n",
    "\n",
    "result = result.sort_values(by=['location', 'period'])\n",
    "result = result.reset_index()[['location', 'period', 'group']]\n",
    "result = result.groupby('location').last()['group'] - result.groupby('location').first()['group']\n",
    "result = result.reset_index()[['location', 'group']]\n",
    "\n",
    "result.loc[(result.group < 0), 'promotion'] = True\n",
    "result = result.drop(['group'], axis=1)\n",
    "result = result.dropna()\n",
    "result = result.reset_index()[['location']]\n",
    "\n",
    "print(result)"
   ]
  },
  {
   "cell_type": "code",
   "execution_count": null,
   "metadata": {},
   "outputs": [],
   "source": []
  }
 ],
 "metadata": {
  "kernelspec": {
   "display_name": "Python 3.7.4 64-bit ('PC COMPUTER': virtualenv)",
   "language": "python",
   "name": "python37464bitpccomputervirtualenvda16a38c2d8c4292a57ddc1af6d43451"
  },
  "language_info": {
   "codemirror_mode": {
    "name": "ipython",
    "version": 3
   },
   "file_extension": ".py",
   "mimetype": "text/x-python",
   "name": "python",
   "nbconvert_exporter": "python",
   "pygments_lexer": "ipython3",
   "version": "3.7.4"
  }
 },
 "nbformat": 4,
 "nbformat_minor": 2
}
